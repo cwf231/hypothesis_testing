{
 "cells": [
  {
   "cell_type": "markdown",
   "id": "4dd2b0c9",
   "metadata": {},
   "source": [
    "## Phase 2.14\n",
    "\n",
    "# Hypothesis Testing\n",
    "## Objectives\n",
    "- Review Hypothesis Testing\n",
    "- Review P-Values\n",
    "- Effect Sizes\n",
    "- T-Tests (1-Sample / 2-Sample)"
   ]
  },
  {
   "cell_type": "markdown",
   "id": "8d8dd10e",
   "metadata": {},
   "source": [
    "# Experimental Design\n",
    "\n",
    "1. Set up Hypothesis *(Hypotheses)*\n",
    "2. Pick the statistical test based on your experiment.\n",
    "3. Pick your alpha *(level of significance).*\n",
    "4. Calculate your test statistic.\n",
    "5. Find your p-value.\n",
    "6. Interpret.\n",
    "\n",
    "<img src='images/new_the-scientific-method.png' width=80%>\n",
    "\n",
    "---\n"
   ]
  },
  {
   "cell_type": "markdown",
   "id": "b2d106af",
   "metadata": {},
   "source": [
    "## Blind / Double Blind\n",
    "\n",
    "<img src='images/new_double_blind.png' width=80%>"
   ]
  },
  {
   "cell_type": "markdown",
   "id": "a5c26afa",
   "metadata": {},
   "source": [
    "---\n",
    "\n",
    "> ***Review: P-Value***\n",
    "> \n",
    "> *A p-value is the probability of observing a test statistic **at least** as large as the one observed by random chance.*\n",
    "\n",
    "---"
   ]
  },
  {
   "cell_type": "markdown",
   "id": "283b7b26",
   "metadata": {},
   "source": [
    "# Effect Size\n",
    "- Effect Size measures the difference between two groups.\n",
    "\n",
    "- *Standardized Effect Size: **Cohen's d**.*\n",
    "    - Measures the difference between groups in terms of the number of standard deviations.\n",
    "    - <a href='https://rpsychologist.com/cohend/'>*Cohen's d - Interactive*</a>\n",
    "        - *Small:* ***0.2***\n",
    "        - *Medium:* ***0.5***\n",
    "        - *Large:* ***0.8***"
   ]
  },
  {
   "cell_type": "markdown",
   "id": "9e6791ac",
   "metadata": {},
   "source": [
    "### Functions from Canvas"
   ]
  },
  {
   "cell_type": "code",
   "execution_count": 1,
   "id": "e24aade3",
   "metadata": {
    "ExecuteTime": {
     "end_time": "2021-12-08T19:20:16.825894Z",
     "start_time": "2021-12-08T19:20:16.814863Z"
    }
   },
   "outputs": [],
   "source": [
    "def Cohen_d(group1, group2):\n",
    "    \"\"\"\n",
    "    Compute Cohen's d.\n",
    "\n",
    "    group1: Series or NumPy array\n",
    "    group2: Series or NumPy array\n",
    "\n",
    "    returns a floating point number \n",
    "    \"\"\"\n",
    "\n",
    "    diff = group1.mean() - group2.mean()\n",
    "\n",
    "    n1, n2 = len(group1), len(group2)\n",
    "    var1, var2 = group1.var(), group2.var()\n",
    "\n",
    "    # Calculate the pooled threshold.\n",
    "    pooled_var = (n1 * var1 + n2 * var2) / (n1 + n2)\n",
    "    \n",
    "    # Calculate Cohen's d statistic.\n",
    "    d = diff / np.sqrt(pooled_var)\n",
    "    \n",
    "    return d"
   ]
  },
  {
   "cell_type": "code",
   "execution_count": 2,
   "id": "278963ff",
   "metadata": {
    "ExecuteTime": {
     "end_time": "2021-12-08T19:20:16.834145Z",
     "start_time": "2021-12-08T19:20:16.829890Z"
    }
   },
   "outputs": [],
   "source": [
    "def evaluate_PDF(rv, x=4):\n",
    "    '''\n",
    "    Input: a random variable object, standard deviation\n",
    "    output : x and y values for the normal distribution\n",
    "    '''\n",
    "    \n",
    "    # Identify the mean and standard deviation of random variable \n",
    "    mean = rv.mean()\n",
    "    std = rv.std()\n",
    "\n",
    "    # Use numpy to calculate evenly spaced numbers over the specified interval (4 sd) and generate 100 samples.\n",
    "    xs = np.linspace(mean - x*std, mean + x*std, 100)\n",
    "    \n",
    "    # Calculate the peak of normal distribution i.e. probability density. \n",
    "    ys = rv.pdf(xs)\n",
    "\n",
    "    return xs, ys # Return calculated values"
   ]
  },
  {
   "cell_type": "code",
   "execution_count": 3,
   "id": "1a8b6000",
   "metadata": {
    "ExecuteTime": {
     "end_time": "2021-12-08T19:20:16.842194Z",
     "start_time": "2021-12-08T19:20:16.837090Z"
    }
   },
   "outputs": [],
   "source": [
    "def overlap_superiority(group1, group2, n=1000):\n",
    "    \"\"\"\n",
    "    Estimates overlap and superiority based on a sample.\n",
    "    \n",
    "    group1: scipy.stats rv object\n",
    "    group2: scipy.stats rv object\n",
    "    n: sample size\n",
    "    \"\"\"\n",
    "\n",
    "    # Get a sample of size n from both groups\n",
    "    group1_sample = group1.rvs(n)\n",
    "    group2_sample = group2.rvs(n)\n",
    "    \n",
    "    # Identify the threshold between samples\n",
    "    thresh = (group1.mean() + group2.mean()) / 2\n",
    "    print(thresh)\n",
    "    \n",
    "    # Calculate no. of values above and below for group 1 and group 2 respectively\n",
    "    above = sum(group1_sample < thresh)\n",
    "    below = sum(group2_sample > thresh)\n",
    "    \n",
    "    # Calculate the overlap\n",
    "    overlap = (above + below) / n\n",
    "    \n",
    "    # Calculate probability of superiority\n",
    "    superiority = sum(x > y for x, y in zip(group1_sample, group2_sample)) / n\n",
    "\n",
    "    return overlap, superiority"
   ]
  },
  {
   "cell_type": "code",
   "execution_count": 4,
   "id": "af62b48d",
   "metadata": {
    "ExecuteTime": {
     "end_time": "2021-12-08T19:20:16.848731Z",
     "start_time": "2021-12-08T19:20:16.844161Z"
    }
   },
   "outputs": [],
   "source": [
    "def plot_pdfs(cohen_d=2):\n",
    "    \"\"\"\n",
    "    Plot PDFs for distributions that differ by some number of stds.\n",
    "    \n",
    "    cohen_d: number of standard deviations between the means\n",
    "    \"\"\"\n",
    "    group1 = stats.norm(0, 1)\n",
    "    group2 = stats.norm(cohen_d, 1)\n",
    "    xs, ys = evaluate_PDF(group1)\n",
    "    plt.fill_between(xs, ys, label='Group1', color='#ff2289', alpha=0.7)\n",
    "\n",
    "    xs, ys = evaluate_PDF(group2)\n",
    "    plt.fill_between(xs, ys, label='Group2', color='#376cb0', alpha=0.7)\n",
    "    \n",
    "    o, s = overlap_superiority(group1, group2)\n",
    "    print('overlap', o)\n",
    "    print('superiority', s)"
   ]
  },
  {
   "cell_type": "markdown",
   "id": "bf7ada23",
   "metadata": {},
   "source": [
    "# 1-Sample T-Test\n",
    "- *Very similar to the 1-Sample Z-Test!*\n",
    "\n",
    "**We need:**\n",
    "1. Population mean.\n",
    "2. Sample data.\n",
    "\n",
    "---\n",
    "\n",
    "*Sample Question*\n",
    "> *Acme Ltd. wants to improve sales performance. Past sales data indicate that the average sale was \\$100 per transaction. After training the sales force, recent sales data (from a random sample of 25 salespeople) is given.*"
   ]
  },
  {
   "cell_type": "code",
   "execution_count": 5,
   "id": "13223139",
   "metadata": {
    "ExecuteTime": {
     "end_time": "2021-12-08T19:20:17.356783Z",
     "start_time": "2021-12-08T19:20:16.853381Z"
    }
   },
   "outputs": [],
   "source": [
    "import numpy as np\n",
    "import scipy.stats as stats"
   ]
  },
  {
   "cell_type": "code",
   "execution_count": 6,
   "id": "4ffc777d",
   "metadata": {
    "ExecuteTime": {
     "end_time": "2021-12-08T19:20:17.375456Z",
     "start_time": "2021-12-08T19:20:17.360290Z"
    }
   },
   "outputs": [
    {
     "data": {
      "text/plain": [
       "array([122.09, 100.64, 125.77, 120.32, 118.25,  96.47, 111.4 ,  80.66,\n",
       "       110.77, 111.14, 102.9 , 114.54,  88.09,  98.59,  87.07, 110.43,\n",
       "       101.9 , 123.89,  97.03, 116.23, 108.3 , 112.82, 119.57, 131.38,\n",
       "       128.39])"
      ]
     },
     "execution_count": 6,
     "metadata": {},
     "output_type": "execute_result"
    }
   ],
   "source": [
    "recent_sales_data = np.array([\n",
    "    122.09, 100.64, 125.77, 120.32, 118.25,\n",
    "    96.47, 111.4, 80.66, 110.77, 111.14,\n",
    "    102.9, 114.54, 88.09, 98.59, 87.07,\n",
    "    110.43, 101.9, 123.89, 97.03, 116.23,\n",
    "    108.3, 112.82, 119.57, 131.38, 128.39\n",
    "])\n",
    "recent_sales_data"
   ]
  },
  {
   "cell_type": "markdown",
   "id": "09c2c7f5",
   "metadata": {},
   "source": [
    "## Hypothesis\n",
    "\n",
    "- $\\Large H_0: \\mu = 100$\n",
    "- $\\Large H_A: \\mu > 100$\n",
    "\n",
    "\n",
    "- $\\Large \\alpha = 0.05$\n",
    "\n",
    "---\n",
    "\n",
    "*What do we need?*\n",
    "1. Population mean *(previous sales number)*\n",
    "2. Number of samples ($n$)\n",
    "3. Mean of sample ($\\bar{x}$)\n",
    "4. Sample standard deviation ($s$) *(Note: $\\sigma$ (sigma) is reserved for **population** standard deviation.)*\n",
    "5. Degrees of Freedom (**dof** or **df**)"
   ]
  },
  {
   "cell_type": "code",
   "execution_count": 7,
   "id": "97990b6a",
   "metadata": {
    "ExecuteTime": {
     "end_time": "2021-12-08T19:20:17.383712Z",
     "start_time": "2021-12-08T19:20:17.378666Z"
    }
   },
   "outputs": [
    {
     "name": "stdout",
     "output_type": "stream",
     "text": [
      "\n",
      "Population Mean:--100\n",
      "n: ---------------25\n",
      "x_bar: -----------109.546\n",
      "s: ---------------13.069\n",
      "DoF: -------------24\n"
     ]
    }
   ],
   "source": [
    "population_mean = 100\n",
    "n = len(recent_sales_data)\n",
    "x_bar = round(recent_sales_data.mean(), 3)\n",
    "s = round(recent_sales_data.std(), 3)\n",
    "dof = n - 1\n",
    "\n",
    "print(f'''\n",
    "Population Mean:--{population_mean}\n",
    "n: ---------------{n}\n",
    "x_bar: -----------{x_bar}\n",
    "s: ---------------{s}\n",
    "DoF: -------------{dof}''')"
   ]
  },
  {
   "cell_type": "markdown",
   "id": "dce909a4",
   "metadata": {},
   "source": [
    "## Calculation\n",
    "\n",
    "$\\LARGE \\text{t-statistic} = \\frac{(\\bar{x} - \\mu)}{(\\frac{s}{\\sqrt{dof}})}$"
   ]
  },
  {
   "cell_type": "code",
   "execution_count": 8,
   "id": "03def971",
   "metadata": {
    "ExecuteTime": {
     "end_time": "2021-12-08T19:20:17.392231Z",
     "start_time": "2021-12-08T19:20:17.386585Z"
    }
   },
   "outputs": [
    {
     "data": {
      "text/plain": [
       "3.578365457893983"
      ]
     },
     "execution_count": 8,
     "metadata": {},
     "output_type": "execute_result"
    }
   ],
   "source": [
    "def calculate_t_statistic(mu, x_bar, s, dof):\n",
    "    return (x_bar - mu) / (s / np.sqrt(dof))\n",
    "\n",
    "t_stat = calculate_t_statistic(population_mean, x_bar, s, dof)\n",
    "t_stat"
   ]
  },
  {
   "cell_type": "markdown",
   "id": "e3bb55ac",
   "metadata": {},
   "source": [
    "### T-Table\n",
    "- *We use the **degrees of freedom** (y-axis) and **alpha** (x-axis) to find the critical value.*\n",
    "\n",
    "<img src='images/t-table.png'>\n",
    "\n",
    "> *https://www.sjsu.edu/faculty/gerstman/StatPrimer/t-table.pdf*"
   ]
  },
  {
   "cell_type": "code",
   "execution_count": 9,
   "id": "c1f32551",
   "metadata": {
    "ExecuteTime": {
     "end_time": "2021-12-08T19:20:17.651915Z",
     "start_time": "2021-12-08T19:20:17.395424Z"
    }
   },
   "outputs": [],
   "source": [
    "from scipy.stats import norm\n",
    "import matplotlib.pyplot as plt"
   ]
  },
  {
   "cell_type": "code",
   "execution_count": 10,
   "id": "9731ddd9",
   "metadata": {
    "ExecuteTime": {
     "end_time": "2021-12-08T19:20:17.912285Z",
     "start_time": "2021-12-08T19:20:17.653651Z"
    },
    "scrolled": false
   },
   "outputs": [
    {
     "data": {
      "image/png": "[encoded data removed]",
      "text/plain": [
       "<Figure size 864x576 with 1 Axes>"
      ]
     },
     "metadata": {
      "needs_background": "light"
     },
     "output_type": "display_data"
    }
   ],
   "source": [
    "# Plot the population, t-statistic, and critical value.\n",
    "CRIT_VAL = 1.711 # Referring to table above: dof=24\n",
    "\n",
    "with plt.style.context('seaborn-poster'):\n",
    "    fig, ax = plt.subplots(figsize=(12,8))\n",
    "    x_vals = np.arange(-5, 5, 0.001)\n",
    "    y_vals = norm.pdf(x_vals)\n",
    "    ax.plot(x_vals, y_vals, color='tab:green',  label='Population')\n",
    "    ax.axvline(t_stat, ls=':', color='tab:red', label='T-Statistic') # T-statistic\n",
    "    ax.axvline(CRIT_VAL, ls='-.', color='tab:blue', label='Critical T-Value') # Critical value\n",
    "    ax.fill_between(\n",
    "        x_vals, y_vals, where=(x_vals >= CRIT_VAL), facecolor='yellow') # Coloring tail\n",
    "    ax.legend()\n",
    "    fig.tight_layout()"
   ]
  },
  {
   "cell_type": "markdown",
   "id": "127a4991",
   "metadata": {},
   "source": [
    "***Since the t-statistic is greater than the critical t-value, we can reject the null hypothesis ($H_0$) that the training had no effect on sales performance.***"
   ]
  },
  {
   "cell_type": "markdown",
   "id": "5cc7e095",
   "metadata": {},
   "source": [
    "## Using Python!"
   ]
  },
  {
   "cell_type": "code",
   "execution_count": 11,
   "id": "adf468fc",
   "metadata": {
    "ExecuteTime": {
     "end_time": "2021-12-08T19:20:17.917187Z",
     "start_time": "2021-12-08T19:20:17.913628Z"
    }
   },
   "outputs": [
    {
     "data": {
      "text/plain": [
       "Ttest_1sampResult(statistic=3.578139767278185, pvalue=0.0015178945415114085)"
      ]
     },
     "execution_count": 11,
     "metadata": {},
     "output_type": "execute_result"
    }
   ],
   "source": [
    "# One-liner in Python!\n",
    "stats.ttest_1samp(recent_sales_data, population_mean)"
   ]
  },
  {
   "cell_type": "markdown",
   "id": "8dc2b112",
   "metadata": {},
   "source": [
    "# 2-Sample T-Test\n",
    "- Used to measure if two population means are equal.\n",
    "In the context of controlled experiments, you will often see talk about the \"control\" group and the \"experimental\" or \"treatment\" group. In a drug test example, the control group is the group given the placebo and the treatment group is given the actual drug. Researchers are interested in the average difference in blood pressure levels between the treatment and control groups.\n",
    "\n",
    "> The 50 subjects in the control group have an average systolic blood pressure of 121.38 who have been given a placebo drug.\n",
    ">\n",
    ">The 50 subjects in the experimental / treatment group have an average systolic blood pressure of 111.56 after treatment with the drug being tested.\n",
    "\n",
    "The apparent difference between experimental and control groups is -9.82 points. But with 50 subjects in each group, how confident can a researcher be that this measured difference is real? You can perform a two sample t-test to evaluate this."
   ]
  },
  {
   "cell_type": "markdown",
   "id": "eb84f9da",
   "metadata": {},
   "source": [
    "## Hypothesis\n",
    "- $H_0: \\mu_1 - \\mu_2 = 0$\n",
    "- $H_A: \\mu_1 - \\mu_2 \\neq 0$\n",
    "\n",
    "\n",
    "- $\\alpha = 0.05$\n",
    "    - *two-tailed*"
   ]
  },
  {
   "cell_type": "code",
   "execution_count": 12,
   "id": "0922702e",
   "metadata": {
    "ExecuteTime": {
     "end_time": "2021-12-08T19:20:18.117421Z",
     "start_time": "2021-12-08T19:20:17.918893Z"
    }
   },
   "outputs": [
    {
     "data": {
      "image/png": "[encoded data removed]",
      "text/plain": [
       "<Figure size 921.6x633.6 with 1 Axes>"
      ]
     },
     "metadata": {
      "needs_background": "light"
     },
     "output_type": "display_data"
    }
   ],
   "source": [
    "# 2-tailed demo.\n",
    "with plt.style.context('seaborn-poster'):\n",
    "    fig, ax = plt.subplots()\n",
    "\n",
    "    x_vals = np.arange(-5, 5, 0.001)\n",
    "    y_vals = norm.pdf(x_vals)\n",
    "    CRIT_VAL = 2.021\n",
    "    ax.plot(x_vals, y_vals)\n",
    "    ax.axvline(CRIT_VAL, ls=':')\n",
    "    ax.axvline(-CRIT_VAL, ls=':')\n",
    "    ax.fill_between(\n",
    "        x_vals, y_vals, \n",
    "        where=((x_vals < -CRIT_VAL) | (x_vals > CRIT_VAL)), \n",
    "        facecolor='yellow')\n",
    "    ax.set(title='2-Tailed Test: Example')\n",
    "    fig.tight_layout()"
   ]
  },
  {
   "cell_type": "markdown",
   "id": "9d54c550",
   "metadata": {},
   "source": [
    "*What do we need to know?*\n",
    "\n",
    "- $\\mu_1 = 121.38$\n",
    "- $n_1 = 50$\n",
    "\n",
    "\n",
    "- $\\mu_2 = 111.56$\n",
    "- $n_2 = 50$\n",
    "\n",
    "## Calculation\n",
    "$\\LARGE t = \\frac{\\bar{x_1} - \\bar{x_2}}{\\sqrt{s_p^2(\\frac{1}{n_1} + \\frac{1}{n_2})}}$\n",
    "\n",
    "$\\LARGE \\text{pooled_variance} = s_p^2 = \\frac{(n_1 - 1)s_1^2 + (n_2 - 1)s_2^2}{n_1 + n_2 - 2}$\n",
    "\n",
    "\n",
    "\n",
    "*Where $s_1^{2}$ and $s_2^{2}$ are the variances for each sample:*\n",
    "\n",
    "$ \\LARGE s^{2} = \\frac{\\sum_{i=1}^{n}(x_{i} - \\bar{x})^{2}}{n-1} $"
   ]
  },
  {
   "cell_type": "code",
   "execution_count": 13,
   "id": "9fdf022f",
   "metadata": {
    "ExecuteTime": {
     "end_time": "2021-12-08T19:20:18.124457Z",
     "start_time": "2021-12-08T19:20:18.119021Z"
    }
   },
   "outputs": [],
   "source": [
    "# Setup data.\n",
    "control = np.array([\n",
    "    166, 165, 120,  94, 104, 166,  98,  85,  97,  87, 114, 100, 152,                \n",
    "    87, 152, 102,  82,  80,  84, 109,  98, 154, 135, 164, 137, 128,                \n",
    "    122, 146,  86, 146,  85, 101, 109, 105, 163, 136, 142, 144, 140,                \n",
    "    128, 126, 119, 121, 126, 169,  87,  97, 167,  89, 155\n",
    "])\n",
    "\n",
    "experimental = np.array([ \n",
    "    83, 100, 123,  75, 130,  77,  78,  87, 116, 116, 141,  93, 107,\n",
    "    101, 142, 152, 130, 123, 122, 154, 119, 149, 106, 107, 108, 151,\n",
    "    97,  95, 104, 141,  80, 110, 136, 134, 142, 135, 111,  83,  86,\n",
    "    116,  86, 117,  87, 143, 104, 107,  86,  88, 124,  76\n",
    "])"
   ]
  },
  {
   "cell_type": "markdown",
   "id": "6ded0371",
   "metadata": {},
   "source": [
    "*Sample variance:*\n",
    "\n",
    "$ \\large s^{2} = \\frac{\\sum_{i=1}^{n}(x_{i} - \\bar{x})^{2}}{n-1} $"
   ]
  },
  {
   "cell_type": "code",
   "execution_count": 14,
   "id": "06a098db",
   "metadata": {
    "ExecuteTime": {
     "end_time": "2021-12-08T19:20:18.128712Z",
     "start_time": "2021-12-08T19:20:18.126168Z"
    }
   },
   "outputs": [],
   "source": [
    "def sample_variance(sample):\n",
    "    sample_mean = np.mean(sample)\n",
    "    return np.sum((sample - sample_mean)**2) / (len(sample) - 1)"
   ]
  },
  {
   "cell_type": "markdown",
   "id": "3aad9cf3",
   "metadata": {},
   "source": [
    "$\\large \\text{pooled_variance} = s_p^2 = \\frac{(n_1 - 1)s_1^2 + (n_2 - 1)s_2^2}{n_1 + n_2 - 2}$"
   ]
  },
  {
   "cell_type": "code",
   "execution_count": 15,
   "id": "a21be892",
   "metadata": {
    "ExecuteTime": {
     "end_time": "2021-12-08T19:20:18.133391Z",
     "start_time": "2021-12-08T19:20:18.130430Z"
    }
   },
   "outputs": [],
   "source": [
    "def pooled_variance(sample1, sample2):\n",
    "    n_1, n_2 = len(sample1), len(sample2)\n",
    "    var_1, var_2 = sample_variance(sample1), sample_variance(sample2)\n",
    "    return ((n_1 - 1) * var_1 + (n_2-1) * var_2) / ((n_1 + n_2) - 2)"
   ]
  },
  {
   "cell_type": "markdown",
   "id": "ad4d0e69",
   "metadata": {},
   "source": [
    "*t-statistic:*\n",
    "\n",
    "$\\large t = \\frac{\\bar{x_1} - \\bar{x_2}}{\\sqrt{s_p^2(\\frac{1}{n_1} + \\frac{1}{n_2})}}$"
   ]
  },
  {
   "cell_type": "code",
   "execution_count": 16,
   "id": "e69ef83e",
   "metadata": {
    "ExecuteTime": {
     "end_time": "2021-12-08T19:20:18.144567Z",
     "start_time": "2021-12-08T19:20:18.137862Z"
    }
   },
   "outputs": [
    {
     "data": {
      "text/plain": [
       "-1.8915462966190273"
      ]
     },
     "execution_count": 16,
     "metadata": {},
     "output_type": "execute_result"
    }
   ],
   "source": [
    "def twosample_tstatistic(expr, ctrl):\n",
    "    exp_mean, ctrl_mean = np.mean(expr), np.mean(ctrl)\n",
    "    pool_var = pooled_variance(expr, ctrl)\n",
    "    n_e, n_c = len(expr), len(ctrl)\n",
    "    num = exp_mean - ctrl_mean\n",
    "    denom = np.sqrt(pool_var * ((1/n_e)+(1/n_c)))\n",
    "    return num / denom\n",
    "\n",
    "t_stat = twosample_tstatistic(experimental, control)\n",
    "t_stat"
   ]
  },
  {
   "cell_type": "code",
   "execution_count": 17,
   "id": "797b7509",
   "metadata": {
    "ExecuteTime": {
     "end_time": "2021-12-08T19:20:18.151851Z",
     "start_time": "2021-12-08T19:20:18.147222Z"
    }
   },
   "outputs": [
    {
     "data": {
      "text/plain": [
       "0.030752120336265197"
      ]
     },
     "execution_count": 17,
     "metadata": {},
     "output_type": "execute_result"
    }
   ],
   "source": [
    "# One-sided p-value.\n",
    "left_tail_crit = stats.t.cdf(t_stat, (50 + 50 - 2), 0, 1)\n",
    "left_tail_crit"
   ]
  },
  {
   "cell_type": "code",
   "execution_count": 18,
   "id": "610e7f22",
   "metadata": {
    "ExecuteTime": {
     "end_time": "2021-12-08T19:20:18.159434Z",
     "start_time": "2021-12-08T19:20:18.154386Z"
    }
   },
   "outputs": [
    {
     "data": {
      "text/plain": [
       "0.9692478796637348"
      ]
     },
     "execution_count": 18,
     "metadata": {},
     "output_type": "execute_result"
    }
   ],
   "source": [
    "# \"Other side\" of the tail.\n",
    "right_tail_crit = 1 - stats.t.cdf(t_stat, (50 + 50 - 2), 0, 1)\n",
    "right_tail_crit"
   ]
  },
  {
   "cell_type": "code",
   "execution_count": 19,
   "id": "48fceb6e",
   "metadata": {
    "ExecuteTime": {
     "end_time": "2021-12-08T19:20:18.167582Z",
     "start_time": "2021-12-08T19:20:18.161944Z"
    }
   },
   "outputs": [
    {
     "data": {
      "text/plain": [
       "0.06150424067253037"
      ]
     },
     "execution_count": 19,
     "metadata": {},
     "output_type": "execute_result"
    }
   ],
   "source": [
    "p_value = (\n",
    "    stats.t.cdf(t_stat, (50 + 50 - 2), 0, 1) \n",
    "    + (1 - stats.t.cdf(-t_stat, (50 + 50 - 2), 0, 1))\n",
    ")\n",
    "p_value"
   ]
  },
  {
   "cell_type": "markdown",
   "id": "4c946816",
   "metadata": {},
   "source": [
    "## Using Python!"
   ]
  },
  {
   "cell_type": "code",
   "execution_count": 20,
   "id": "84113a39",
   "metadata": {
    "ExecuteTime": {
     "end_time": "2021-12-08T19:20:18.175675Z",
     "start_time": "2021-12-08T19:20:18.169675Z"
    }
   },
   "outputs": [
    {
     "data": {
      "text/plain": [
       "Ttest_indResult(statistic=-1.8915462966190273, pvalue=0.061504240672530394)"
      ]
     },
     "execution_count": 20,
     "metadata": {},
     "output_type": "execute_result"
    }
   ],
   "source": [
    "# One-liner in Python!\n",
    "stats.ttest_ind(experimental, control)"
   ]
  },
  {
   "cell_type": "code",
   "execution_count": 21,
   "id": "7a2d97c7",
   "metadata": {
    "ExecuteTime": {
     "end_time": "2021-12-08T19:20:18.183954Z",
     "start_time": "2021-12-08T19:20:18.178522Z"
    }
   },
   "outputs": [
    {
     "data": {
      "text/plain": [
       "0.3821500609336042"
      ]
     },
     "execution_count": 21,
     "metadata": {},
     "output_type": "execute_result"
    }
   ],
   "source": [
    "Cohen_d(control, experimental)"
   ]
  },
  {
   "cell_type": "code",
   "execution_count": 22,
   "id": "709cdd29",
   "metadata": {
    "ExecuteTime": {
     "end_time": "2021-12-08T19:20:18.353913Z",
     "start_time": "2021-12-08T19:20:18.186014Z"
    }
   },
   "outputs": [
    {
     "name": "stdout",
     "output_type": "stream",
     "text": [
      "0.1910750304668021\n",
      "overlap 1.137\n",
      "superiority 0.408\n"
     ]
    },
    {
     "data": {
      "image/png": "[encoded data removed]",
      "text/plain": [
       "<Figure size 432x288 with 1 Axes>"
      ]
     },
     "metadata": {
      "needs_background": "light"
     },
     "output_type": "display_data"
    }
   ],
   "source": [
    "plot_pdfs(Cohen_d(control, experimental))"
   ]
  },
  {
   "cell_type": "markdown",
   "id": "b6c45597",
   "metadata": {},
   "source": [
    "## Interpret\n",
    "\n",
    "- We fail to reject the null hypothesis $H_0$.\n",
    "\n",
    "\n",
    "- The two populations are not significantly different, so the drug cannot be said to have an impact on blood pressure."
   ]
  },
  {
   "cell_type": "code",
   "execution_count": 23,
   "id": "95dab72d",
   "metadata": {
    "ExecuteTime": {
     "end_time": "2021-12-08T19:20:18.573999Z",
     "start_time": "2021-12-08T19:20:18.355679Z"
    }
   },
   "outputs": [
    {
     "data": {
      "image/png": "[encoded data removed]",
      "text/plain": [
       "<Figure size 576x432 with 1 Axes>"
      ]
     },
     "metadata": {
      "needs_background": "light"
     },
     "output_type": "display_data"
    }
   ],
   "source": [
    "with plt.style.context('seaborn-poster'):\n",
    "    fig, ax = plt.subplots(figsize=(8,6))\n",
    "\n",
    "    control_pop = stats.norm(loc=control.mean(), scale=control.std())\n",
    "    experimental_pop = stats.norm(loc=experimental.mean(), scale=experimental.std())\n",
    "    x = np.linspace(\n",
    "        control_pop.mean() - control_pop.std() * 4, \n",
    "        control_pop.mean() + control_pop.std() * 4, \n",
    "        100\n",
    "        )\n",
    "    control_y = control_pop.pdf(x)\n",
    "    experimental_y = experimental_pop.pdf(x)\n",
    "\n",
    "    ax.plot(x, control_y, label='Control')\n",
    "    ax.plot(x, experimental_y, label='Experimental')\n",
    "    ax.legend();"
   ]
  },
  {
   "cell_type": "code",
   "execution_count": null,
   "id": "7a440343",
   "metadata": {},
   "outputs": [],
   "source": []
  }
 ],
 "metadata": {
  "kernelspec": {
   "display_name": "Python 3",
   "language": "python",
   "name": "python3"
  },
  "language_info": {
   "codemirror_mode": {
    "name": "ipython",
    "version": 3
   },
   "file_extension": ".py",
   "mimetype": "text/x-python",
   "name": "python",
   "nbconvert_exporter": "python",
   "pygments_lexer": "ipython3",
   "version": "3.6.9"
  },
  "toc": {
   "base_numbering": 1,
   "nav_menu": {},
   "number_sections": false,
   "sideBar": true,
   "skip_h1_title": false,
   "title_cell": "Table of Contents",
   "title_sidebar": "Contents",
   "toc_cell": false,
   "toc_position": {
    "height": "calc(100% - 180px)",
    "left": "10px",
    "top": "150px",
    "width": "309.016px"
   },
   "toc_section_display": true,
   "toc_window_display": true
  }
 },
 "nbformat": 4,
 "nbformat_minor": 5
}
